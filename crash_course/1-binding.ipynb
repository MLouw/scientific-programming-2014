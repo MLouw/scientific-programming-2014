{
 "metadata": {
  "name": "",
  "signature": "sha256:2c02d638897c7297a872e4d27129565dcfede1ce0d89efc52e98088f64bb4bef"
 },
 "nbformat": 3,
 "nbformat_minor": 0,
 "worksheets": [
  {
   "cells": [
    {
     "cell_type": "heading",
     "level": 3,
     "metadata": {},
     "source": [
      "Saying hello"
     ]
    },
    {
     "cell_type": "markdown",
     "metadata": {},
     "source": [
      "Traditionally, the first program and simplest program that you make in a new language is one that greets you, the user, by outputting the string \"Hello world\". So let's get that out of the way."
     ]
    },
    {
     "cell_type": "code",
     "collapsed": false,
     "input": [
      "print \"Hello world\""
     ],
     "language": "python",
     "metadata": {},
     "outputs": []
    },
    {
     "cell_type": "markdown",
     "metadata": {},
     "source": [
      "Note that the last statement to be executed in a cell is automatically echoed back. So in this interactive environment, the program could be written even more concisely as"
     ]
    },
    {
     "cell_type": "code",
     "collapsed": false,
     "input": [
      "\"Hello world\""
     ],
     "language": "python",
     "metadata": {},
     "outputs": []
    },
    {
     "cell_type": "heading",
     "level": 3,
     "metadata": {},
     "source": [
      "Binding data to variables"
     ]
    },
    {
     "cell_type": "markdown",
     "metadata": {},
     "source": [
      "Initially, your environment (or namespace) starts out completely empty. IPython allows you to check, at any time, what names have been defined. You simply write \n",
      "\n",
      "````\n",
      "%whos\n",
      "````\n",
      "\n",
      "in a cell and execute it. Try below to verify that the environment is indeed empty."
     ]
    },
    {
     "cell_type": "code",
     "collapsed": false,
     "input": [
      "%whos"
     ],
     "language": "python",
     "metadata": {},
     "outputs": []
    },
    {
     "cell_type": "markdown",
     "metadata": {},
     "source": [
      "Now let's introduce some variables to the namespace. After executing the cell below, you should have the names `x`, `y`, and `name` in your namespace. Run `%whos` to confirm."
     ]
    },
    {
     "cell_type": "code",
     "collapsed": false,
     "input": [
      "x = 5\n",
      "y = 7.5\n",
      "name = \"Kaj\""
     ],
     "language": "python",
     "metadata": {},
     "outputs": []
    },
    {
     "cell_type": "markdown",
     "metadata": {},
     "source": [
      "**Exercise** Bind a list of numbers to a variable. Rerun `%whos`. Then bind a list of strings and check the output of `%whos`. What changed? (Type your answer in a new cell below)."
     ]
    },
    {
     "cell_type": "code",
     "collapsed": false,
     "input": [],
     "language": "python",
     "metadata": {},
     "outputs": []
    },
    {
     "cell_type": "heading",
     "level": 3,
     "metadata": {},
     "source": [
      "References and copies"
     ]
    },
    {
     "cell_type": "markdown",
     "metadata": {},
     "source": [
      "As discussed in the lecture, variables and data lead quite independent lives. In other words, the name is not the thing. Data objects (numbers, strings, lists, etc.) exist in memory, and a variable is best thought of as a reference to the place in memory where that object is.\n",
      "\n",
      "Python has a built-in function `id(object)` which takes a Python object (e.g. a string, list, number, etc.) and returns an identifier. If you have two variables `x` and `y`, and `id(x) == id(y)`, then the variables reference the same object "
     ]
    },
    {
     "cell_type": "code",
     "collapsed": false,
     "input": [
      "x = [1, 2, 3]\n",
      "y = x"
     ],
     "language": "python",
     "metadata": {},
     "outputs": []
    },
    {
     "cell_type": "markdown",
     "metadata": {},
     "source": [
      "** Exercise ** Print the object identifiers of `x` and `y`. Do you expect them to be the same, or different? Explain."
     ]
    },
    {
     "cell_type": "code",
     "collapsed": false,
     "input": [
      "x = 5\n",
      "y = x"
     ],
     "language": "python",
     "metadata": {},
     "outputs": []
    },
    {
     "cell_type": "markdown",
     "metadata": {},
     "source": [
      "** Exercise ** Again, print the object identifiers of `x` and `y`. Before you execute the code, try to see if you can figure out what the result is going to be."
     ]
    },
    {
     "cell_type": "code",
     "collapsed": false,
     "input": [
      "x = [1, 2, 3]\n",
      "y = [1, 2, 3]"
     ],
     "language": "python",
     "metadata": {},
     "outputs": []
    },
    {
     "cell_type": "markdown",
     "metadata": {},
     "source": [
      "** Exercise ** Finally, print the object identifiers of the two identical lists above. Same or different? By necessity or coincidence?"
     ]
    },
    {
     "cell_type": "heading",
     "level": 3,
     "metadata": {},
     "source": [
      "Documentation"
     ]
    },
    {
     "cell_type": "markdown",
     "metadata": {},
     "source": [
      "If you are curious about what the mysterious value from `id` actually is, you can learn more about by looking it up in the documentation. In IPython the help is never far. You can get the documentation for any function by typing its name followed by a question mark. Thus, to see the documentation for `id`, you would write `id?` and execute the cell. Try below."
     ]
    },
    {
     "cell_type": "code",
     "collapsed": false,
     "input": [
      "id?"
     ],
     "language": "python",
     "metadata": {},
     "outputs": []
    }
   ],
   "metadata": {}
  }
 ]
}